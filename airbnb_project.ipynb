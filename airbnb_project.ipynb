{
  "nbformat": 4,
  "nbformat_minor": 0,
  "metadata": {
    "colab": {
      "name": "airbnb_project.ipynb",
      "provenance": [],
      "include_colab_link": true
    },
    "kernelspec": {
      "name": "python3",
      "display_name": "Python 3"
    }
  },
  "cells": [
    {
      "cell_type": "markdown",
      "metadata": {
        "id": "view-in-github",
        "colab_type": "text"
      },
      "source": [
        "<a href=\"https://colab.research.google.com/github/djvaroli/CS542/blob/master/airbnb_project.ipynb\" target=\"_parent\"><img src=\"https://colab.research.google.com/assets/colab-badge.svg\" alt=\"Open In Colab\"/></a>"
      ]
    },
    {
      "cell_type": "code",
      "metadata": {
        "id": "RbTvjqABmqX7",
        "colab_type": "code",
        "colab": {}
      },
      "source": [
        "import pandas as pd\n",
        "import numpy as np\n",
        "full_df = pd.read_csv(\"data.csv\")\n",
        "features = list(full_df)\n",
        "\n",
        "test_ind = pd.read_csv(\"test.csv\")\n",
        "train_ind = pd.read_csv(\"train.csv\")\n",
        "val_ind = pd.read_csv(\"val.csv\")\n",
        "\n",
        "train_df = full_df.merge(train_ind, on=[\"id\"])\n",
        "val_df = full_df.merge(val_ind, on=[\"id\"])\n",
        "test_df = full_df.merge(test_ind, on=[\"id\"])\n",
        "\n"
      ],
      "execution_count": 0,
      "outputs": []
    },
    {
      "cell_type": "code",
      "metadata": {
        "id": "yUB9D2yJnht3",
        "colab_type": "code",
        "colab": {}
      },
      "source": [
        "def predict_price(new_listing_value,feature_column,k = 5):\n",
        "    temp_df = train_df\n",
        "    temp_df['distance'] = np.abs(train_df[feature_column] - new_listing_value)\n",
        "    temp_df = temp_df.sort_values('distance')\n",
        "    knn = temp_df.price.iloc[:k]\n",
        "    predicted_price = knn.mean()\n",
        "    return predicted_price"
      ],
      "execution_count": 0,
      "outputs": []
    },
    {
      "cell_type": "code",
      "metadata": {
        "id": "pHhLuo7Pnjgn",
        "colab_type": "code",
        "colab": {}
      },
      "source": [
        "prices = test_df.accommodates.apply(predict_price,feature_column='accommodates')\n"
      ],
      "execution_count": 0,
      "outputs": []
    },
    {
      "cell_type": "code",
      "metadata": {
        "id": "x7vKp-h_nlP1",
        "colab_type": "code",
        "colab": {}
      },
      "source": [
        ""
      ],
      "execution_count": 0,
      "outputs": []
    }
  ]
}