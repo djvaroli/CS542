{
  "nbformat": 4,
  "nbformat_minor": 0,
  "metadata": {
    "colab": {
      "name": "airbnb_project.ipynb",
      "provenance": [],
      "collapsed_sections": [],
      "include_colab_link": true
    },
    "kernelspec": {
      "name": "python3",
      "display_name": "Python 3"
    }
  },
  "cells": [
    {
      "cell_type": "markdown",
      "metadata": {
        "id": "view-in-github",
        "colab_type": "text"
      },
      "source": [
        "<a href=\"https://colab.research.google.com/github/djvaroli/CS542/blob/master/airbnb_project.ipynb\" target=\"_parent\"><img src=\"https://colab.research.google.com/assets/colab-badge.svg\" alt=\"Open In Colab\"/></a>"
      ]
    },
    {
      "cell_type": "code",
      "metadata": {
        "id": "ar1MeoIWGiOJ",
        "colab_type": "code",
        "colab": {}
      },
      "source": [
        "import pandas as pd\n",
        "import numpy as np\n",
        "import datetime\n",
        "from datetime import datetime as dt\n",
        "import pytz\n",
        "\n",
        "full_df = pd.read_csv(\"data.csv\")\n",
        "# print(full_df.zipcode.unique())\n",
        "\n",
        "zipcodes_df = full_df.zipcode\n",
        "\n",
        "zipcodes = np.zeros(len(zipcodes_df))\n",
        "\n",
        "iZip = 0\n",
        "for zipcode in zipcodes_df:\n",
        "  if type(zipcode) == str:\n",
        "    zipcode = zipcode.replace('TX','')\n",
        "    zipcode = zipcode.replace(' ','')\n",
        "    zipcodes[iZip]= float(zipcode)\n",
        "  else:\n",
        "    zipcodes[iZip] = np.nan\n",
        "  iZip += 1\n",
        "\n",
        "full_df['zipcode'] = list(zipcodes)\n",
        "\n",
        "\n",
        "non_nan = [\n",
        "        'accommodates',\n",
        "        'bathrooms',\n",
        "        'longitude',\n",
        "        'latitude',\n",
        "        'beds',\n",
        "        'bedrooms'\n",
        "        ]"
      ],
      "execution_count": 0,
      "outputs": []
    },
    {
      "cell_type": "code",
      "metadata": {
        "id": "RbTvjqABmqX7",
        "colab_type": "code",
        "colab": {}
      },
      "source": [
        "# replace nans in square feet with the median value\n",
        "non_binary_nan_features = [\n",
        "                           'review_scores_rating',\n",
        "                           'square_feet',\n",
        "                          ]\n",
        "\n",
        "for f in non_binary_nan_features:\n",
        "  med = np.nanmedian(full_df[f])\n",
        "  full_df[f].fillna(med,inplace=True)\n",
        "\n",
        "# replace nan with f, assume that if data not available then not verified etc\n",
        "binary_nan_feautures = ['host_is_superhost','host_identity_verified','is_location_exact']\n",
        "for bf in binary_nan_feautures:\n",
        "  full_df[bf].fillna('f',inplace=True)\n",
        "binary_dict = {'t':1,'f':0}\n",
        "full_df.replace(binary_dict,inplace=True)\n",
        "\n",
        "\n",
        "# replace using dictionaries \n",
        "features_to_engineer = ['room_type']\n",
        "room_type_dict = {'Entire home/apt':3, 'Private room':1, 'Hotel room':2, 'Shared room':0}\n",
        "# bed_type_dict = {'Real Bed': 4,'Futon':1, 'Couch': 0, 'Airbed': 2, 'Pull-out Sofa': 3}\n",
        "full_df.replace(room_type_dict,inplace=True)\n",
        "full_df.replace(bed_type_dict,inplace=True)\n",
        "\n",
        "cols = non_nan + non_binary_nan_features + binary_nan_feautures + features_to_engineer"
      ],
      "execution_count": 0,
      "outputs": []
    },
    {
      "cell_type": "code",
      "metadata": {
        "id": "PEiGB7qtYGqm",
        "colab_type": "code",
        "colab": {}
      },
      "source": [
        "amenities_weights = {\n",
        "    'Free parking on premises':1,\n",
        "    'Free street parking':1,\n",
        "    'Patio or balcony':1,\n",
        "    'Gym':1,\n",
        "    'Pool':1,\n",
        "    'Air conditioning':1,\n",
        "    'BBQ grill':1,\n",
        "    'Wifi':1,\n",
        "    'Heating':1,\n",
        "    'Kitchen': 1,\n",
        "    'Hot water': 1,\n",
        "    'Internet' :1,\n",
        "    'Elevator': 1 \n",
        "  }\n",
        "\n",
        "chars_to_strip = {\"'\",\"{\",\"}\",'\"'}\n",
        "am_entries = full_df.amenities\n",
        "scores = np.zeros(len(am_entries))\n",
        "\n",
        "i = 0\n",
        "for entry in am_entries:\n",
        "  for char_to_strip in chars_to_strip:\n",
        "    entry = entry.replace(char_to_strip,'')\n",
        "\n",
        "  entry = entry.split(\",\")\n",
        "  score = 0\n",
        "  for amenity in entry:\n",
        "    try:\n",
        "      amenity_weight = amenities_weights[amenity]\n",
        "    except:\n",
        "      amenity_weight = 1\n",
        "    score += amenity_weight\n",
        "  scores[i] = score\n",
        "  i += 1\n",
        "\n",
        "full_df['amenities'] = list(scores)"
      ],
      "execution_count": 0,
      "outputs": []
    },
    {
      "cell_type": "code",
      "metadata": {
        "id": "uNdQIeEbYSw7",
        "colab_type": "code",
        "colab": {}
      },
      "source": [
        "def normalize(full_df,normalization = '0-mean'):\n",
        "  if normalization == '0-mean':\n",
        "    for col in cols:\n",
        "      col_mean = np.mean(full_df[col])\n",
        "      col_std = np.std(full_df[col])\n",
        "      full_df[col] = (full_df[col] - col_mean)/col_std\n",
        "\n",
        "  elif normalization == 'scaling':\n",
        "    for col in cols:\n",
        "      col_max = np.max(full_df[col])\n",
        "      col_min = np.min(full_df[col])\n",
        "      full_df[col] = (full_df[col] - col_min)/(col_max - col_min)\n",
        "\n",
        "  return full_df\n",
        "\n",
        "full_df = normalize(full_df,'scaling')"
      ],
      "execution_count": 0,
      "outputs": []
    },
    {
      "cell_type": "code",
      "metadata": {
        "id": "6VsDgHnZn4w3",
        "colab_type": "code",
        "colab": {}
      },
      "source": [
        "\n",
        "def predict_price_multivariate(new_listing, feature_columns, k = 8):\n",
        "    def compute_eucl_dist(new_listing,train_df,list_of_feautures):\n",
        "      sum_squares = 0\n",
        "      for feature in list_of_feautures:\n",
        "        sum_squares += np.square(train_df[feature] - new_listing[feature])\n",
        "      return np.sqrt(sum_squares)\n",
        "      \n",
        "    temp_df = train_df\n",
        "    temp_df['distance'] = compute_eucl_dist(new_listing, temp_df, feature_columns)\n",
        "    temp_df = temp_df.sort_values('distance')\n",
        "    knn = temp_df.price.iloc[:k]\n",
        "    predicted_price = knn.mean()\n",
        "    return predicted_price\n"
      ],
      "execution_count": 0,
      "outputs": []
    },
    {
      "cell_type": "code",
      "metadata": {
        "id": "eBTC7ouJpBRu",
        "colab_type": "code",
        "outputId": "c7441a49-f7c4-4951-b931-3bac1b97a8b5",
        "colab": {
          "base_uri": "https://localhost:8080/",
          "height": 34
        }
      },
      "source": [
        "\n",
        "test_ind = pd.read_csv(\"test.csv\")\n",
        "train_ind = pd.read_csv(\"train.csv\")\n",
        "val_ind = pd.read_csv(\"val.csv\")\n",
        "\n",
        "train_df = full_df.merge(train_ind, on=[\"id\"])\n",
        "val_df = full_df.merge(val_ind, on=[\"id\"])\n",
        "test_df = full_df.merge(test_ind, on=[\"id\"])\n",
        "\n",
        "k_ = 15\n",
        "val_df['predicted_price'] = val_df[cols].apply(predict_price_multivariate,feature_columns=cols,k=k_,axis=1)\n",
        "\n",
        "val_df['squared_error'] = (val_df['predicted_price'] - val_df['price'])**(2)\n",
        "mse = val_df['squared_error'].mean()\n",
        "rmse = mse ** (1/2)\n",
        "print(\"RMSE with k = %d and %d features: %.2f\" % (k_,len(cols),rmse))\n",
        "\n"
      ],
      "execution_count": 408,
      "outputs": [
        {
          "output_type": "stream",
          "text": [
            "RMSE with k = 15 and 12 features: 100.85\n"
          ],
          "name": "stdout"
        }
      ]
    },
    {
      "cell_type": "code",
      "metadata": {
        "id": "XL4rL-07s9Zh",
        "colab_type": "code",
        "colab": {
          "base_uri": "https://localhost:8080/",
          "height": 34
        },
        "outputId": "628ae249-189b-4df8-ca75-f08048996ca2"
      },
      "source": [
        "predicted_prices = test_df[cols].apply(predict_price_multivariate,feature_columns=cols,axis=1)\n",
        "\n",
        "tz_NY = pytz.timezone('America/New_York') \n",
        "datetime_NY = dt.now(tz_NY)\n",
        "time_stamp = datetime_NY.strftime(\"%H_%M_%S\")\n",
        "\n",
        "answ_df = pd.read_csv(\"test.csv\")\n",
        "answ_df.insert(1,'price',predicted_prices)\n",
        "answ_df.to_csv(\"%d_k%d_f%d_%s.csv\" % (rmse,k_,len(cols),time_stamp),index=False)\n",
        "\n",
        "print(\"Finished\")"
      ],
      "execution_count": 411,
      "outputs": [
        {
          "output_type": "stream",
          "text": [
            "Finished\n"
          ],
          "name": "stdout"
        }
      ]
    },
    {
      "cell_type": "code",
      "metadata": {
        "id": "t-Doy2-b0wFY",
        "colab_type": "code",
        "colab": {}
      },
      "source": [
        "# amenities_unique = {}\n",
        "# chars_to_strip = {\"'\",\"{\",\"}\",'\"'}\n",
        "# for entry in am_entries:\n",
        "#   for char_to_strip in chars_to_strip:\n",
        "#     entry = entry.replace(char_to_strip,'')\n",
        "\n",
        "#   entry = entry.split(\",\")\n",
        "\n",
        "#   for amenity in entry:\n",
        "#     if amenity in amenities_unique:\n",
        "#         amenities_unique[amenity] += 1\n",
        "#     else:\n",
        "#         amenities_unique[amenity] = 1\n",
        "\n",
        "\n",
        "# amenities_unique_sorted = dict(sorted(amenities_unique.items(), key=lambda item: item[1],reverse=True))\n",
        "\n",
        "# amenities = list(amenities_unique_sorted.keys())\n",
        "# freq = list(amenities_unique_sorted.values())\n",
        "# amenities_df = pd.DataFrame({'Amenity Name':amenities, 'Num. Occurences':freq})\n",
        "# amenities_df.to_csv(\"amenities.csv\",index=False)\n",
        "\n",
        "\n",
        "\n"
      ],
      "execution_count": 0,
      "outputs": []
    },
    {
      "cell_type": "code",
      "metadata": {
        "id": "BXVRGK28xrts",
        "colab_type": "code",
        "colab": {}
      },
      "source": [
        "# # replace nans in square feet with the median value\n",
        "# sq_feet_med = np.nanmedian(full_df.square_feet)\n",
        "# full_df.square_feet.fillna(sq_feet_med,inplace=True)\n",
        "\n",
        "# review_scores_rating_med = np.nanmedian(full_df.review_scores_rating)\n",
        "# full_df.review_scores_rating.fillna(review_scores_rating_med,inplace=True)\n",
        "\n",
        "# review_scores_location_med = np.nanmedian(full_df.review_scores_location)\n",
        "# full_df.review_scores_location.fillna(review_scores_location_med,inplace=True)\n",
        "\n",
        "# # replace nan with f, assume that if data not available then not verified etc\n",
        "# binary_feautures = ['host_is_superhost','host_identity_verified','is_location_exact']\n",
        "# for bf in binary_feautures:\n",
        "#   full_df[bf].fillna('f',inplace=True)\n",
        "\n",
        "# # replace using dictionaries \n",
        "# binary_dict = {'t':1,'f':0}\n",
        "# room_type_dict = {'Entire home/apt':3, 'Private room':1, 'Hotel room':2, 'Shared room':0}\n",
        "# bed_type_dict = {'Real Bed': 4,'Futon':1, 'Couch': 0, 'Airbed': 2, 'Pull-out Sofa': 3}\n",
        "# full_df.replace(binary_dict,inplace=True)\n",
        "# full_df.replace(room_type_dict,inplace=True)\n",
        "# full_df.replace(bed_type_dict,inplace=True)\n",
        "\n",
        "\n",
        "# amenities_weights = {\n",
        "#     'Free parking on premises':14,\n",
        "#     'Free street parking':13,\n",
        "#     'Patio or balcony':12,\n",
        "#     'Gym':11,\n",
        "#     'Pool':10,\n",
        "#     'Air conditioning':9,\n",
        "#     'BBQ grill':6,\n",
        "#     'Wifi':5,\n",
        "#     'Heating':5,\n",
        "#     'Kitchen': 5,\n",
        "#     'Hot water': 5,\n",
        "#     'Internet' :5,\n",
        "#     'Elevator': 5 \n",
        "#   }"
      ],
      "execution_count": 0,
      "outputs": []
    }
  ]
}