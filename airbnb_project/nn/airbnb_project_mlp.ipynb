{
 "cells": [
  {
   "cell_type": "code",
   "execution_count": 286,
   "metadata": {},
   "outputs": [
    {
     "name": "stdout",
     "output_type": "stream",
     "text": [
      "The autoreload extension is already loaded. To reload it, use:\n",
      "  %reload_ext autoreload\n",
      "Doing data cleaning!\n",
      "-1to1\n"
     ]
    }
   ],
   "source": [
    "from data_preprocess import *\n",
    "from datetime import datetime as dt\n",
    "import pandas as pd\n",
    "from mlp_5 import * \n",
    "import pytz\n",
    "\n",
    "%load_ext autoreload\n",
    "%autoreload 2\n",
    "\n",
    "features = [\n",
    "        'accommodates',\n",
    "        'bathrooms',\n",
    "        'longitude',\n",
    "        'latitude',\n",
    "        ]\n",
    "\n",
    "# full_df = pd.read_csv('data.csv')\n",
    "full_df = data_preprocessing(pd.read_csv(\"data.csv\"),features,normalization = '-1to1')\n",
    "# print(full_df[features])\n",
    "\n",
    "cols = features"
   ]
  },
  {
   "cell_type": "code",
   "execution_count": 287,
   "metadata": {},
   "outputs": [],
   "source": [
    "test_ind = pd.read_csv(\"test.csv\")\n",
    "train_ind = pd.read_csv(\"train.csv\")\n",
    "val_ind = pd.read_csv(\"val.csv\")\n",
    "\n",
    "train_df = full_df.merge(train_ind, on=[\"id\"])\n",
    "train_df_prices = train_df['price']\n",
    "y_train = train_df_prices.values \n",
    "train_df = train_df[cols]\n",
    "X_train = train_df.values\n",
    "# print(X_train.shape)\n",
    "# train_df.drop('price',axis=1, inplace=True)\n",
    "# print(y_train)\n",
    "val_df = full_df.merge(val_ind, on=[\"id\"])\n",
    "val_df_prices = val_df['price']\n",
    "y_val = val_df_prices.values\n",
    "val_df = val_df[cols]\n",
    "X_val = val_df.values\n",
    "# print(X_val.shape)\n",
    "# print(len(val_df.columns))\n",
    "# val_df.drop('price',axis=1, inplace=True)\n",
    "\n",
    "test_df = full_df.merge(test_ind, on=[\"id\"])\n",
    "test_df = test_df[cols]\n",
    "X_test = test_df.values\n",
    "\n",
    "# import matplotlib.pyplot as plt \n",
    "\n",
    "# plt.hist(train_df['accommodates'])\n",
    "# plt.show()\n",
    "\n",
    "# plt.hist(train_df['longitude'])\n",
    "# plt.show()\n",
    "# plt.hist(train_df['latitude'])\n",
    "# plt.show()"
   ]
  },
  {
   "cell_type": "code",
   "execution_count": 288,
   "metadata": {
    "scrolled": false
   },
   "outputs": [
    {
     "name": "stdout",
     "output_type": "stream",
     "text": [
      "(6152, 4)\n",
      "4\n",
      "Epoch 1: loss 96.540198, train_acc 129.734283, val_acc 150.578156\n",
      "Epoch 2: loss 104.308219, train_acc 182.079922, val_acc 147.293164\n",
      "Epoch 3: loss 60.802594, train_acc 124.013615, val_acc 146.823079\n",
      "Epoch 4: loss 74.094816, train_acc 168.459612, val_acc 170.805814\n",
      "Epoch 5: loss 109.856075, train_acc 182.874595, val_acc 167.142337\n",
      "Epoch 6: loss 94.773887, train_acc 181.216637, val_acc 152.885845\n",
      "Epoch 7: loss 50.658649, train_acc 102.699024, val_acc 159.029219\n",
      "Epoch 8: loss 53.982846, train_acc 79.276750, val_acc 155.901298\n",
      "Epoch 9: loss 71.807671, train_acc 155.122290, val_acc 157.207686\n",
      "Epoch 10: loss 46.427464, train_acc 154.997192, val_acc 160.515902\n",
      "Epoch 11: loss 58.572975, train_acc 126.783321, val_acc 156.306908\n",
      "Epoch 12: loss 67.339557, train_acc 151.645050, val_acc 153.320892\n",
      "Epoch 13: loss 48.243156, train_acc 142.015196, val_acc 161.594230\n",
      "Epoch 14: loss 81.346624, train_acc 161.319186, val_acc 158.648073\n",
      "Epoch 15: loss 87.385380, train_acc 171.648657, val_acc 157.068544\n",
      "Epoch 16: loss 104.065646, train_acc 195.811172, val_acc 155.977206\n",
      "Epoch 17: loss 79.344963, train_acc 156.466878, val_acc 156.259754\n"
     ]
    },
    {
     "ename": "KeyboardInterrupt",
     "evalue": "",
     "output_type": "error",
     "traceback": [
      "\u001b[0;31m---------------------------------------------------------------------------\u001b[0m",
      "\u001b[0;31mKeyboardInterrupt\u001b[0m                         Traceback (most recent call last)",
      "\u001b[0;32m<ipython-input-288-118e1bbb3c18>\u001b[0m in \u001b[0;36m<module>\u001b[0;34m\u001b[0m\n\u001b[1;32m     16\u001b[0m                             \u001b[0mnum_epochs\u001b[0m\u001b[0;34m=\u001b[0m\u001b[0;36m100\u001b[0m\u001b[0;34m,\u001b[0m \u001b[0mbatch_size\u001b[0m \u001b[0;34m=\u001b[0m \u001b[0;36m25\u001b[0m\u001b[0;34m,\u001b[0m\u001b[0;34m\u001b[0m\u001b[0;34m\u001b[0m\u001b[0m\n\u001b[1;32m     17\u001b[0m                             \u001b[0mlearning_rate\u001b[0m\u001b[0;34m=\u001b[0m\u001b[0;36m3.5e-3\u001b[0m\u001b[0;34m,\u001b[0m \u001b[0mlearning_rate_decay\u001b[0m\u001b[0;34m=\u001b[0m\u001b[0;36m0.9\u001b[0m\u001b[0;34m,\u001b[0m\u001b[0;34m\u001b[0m\u001b[0;34m\u001b[0m\u001b[0m\n\u001b[0;32m---> 18\u001b[0;31m                             reg=1e-10, verbose=True)\n\u001b[0m\u001b[1;32m     19\u001b[0m \u001b[0;34m\u001b[0m\u001b[0m\n\u001b[1;32m     20\u001b[0m \u001b[0;32mimport\u001b[0m \u001b[0mmatplotlib\u001b[0m\u001b[0;34m.\u001b[0m\u001b[0mpyplot\u001b[0m \u001b[0;32mas\u001b[0m \u001b[0mplt\u001b[0m\u001b[0;34m\u001b[0m\u001b[0;34m\u001b[0m\u001b[0m\n",
      "\u001b[0;32m~/Desktop/CS542/airbnb_project/nn/mlp_5.py\u001b[0m in \u001b[0;36mtrain\u001b[0;34m(self, X, y, X_val, y_val, learning_rate, learning_rate_decay, reg, num_epochs, batch_size, verbose)\u001b[0m\n\u001b[1;32m    133\u001b[0m \u001b[0;34m\u001b[0m\u001b[0m\n\u001b[1;32m    134\u001b[0m                 \u001b[0;31m# Compute loss and gradients using the current minibatch\u001b[0m\u001b[0;34m\u001b[0m\u001b[0;34m\u001b[0m\u001b[0;34m\u001b[0m\u001b[0m\n\u001b[0;32m--> 135\u001b[0;31m                 \u001b[0mloss\u001b[0m\u001b[0;34m,\u001b[0m \u001b[0mgrads\u001b[0m \u001b[0;34m=\u001b[0m \u001b[0mself\u001b[0m\u001b[0;34m.\u001b[0m\u001b[0mloss\u001b[0m\u001b[0;34m(\u001b[0m\u001b[0mX_batch\u001b[0m\u001b[0;34m,\u001b[0m \u001b[0my\u001b[0m\u001b[0;34m=\u001b[0m\u001b[0my_batch\u001b[0m\u001b[0;34m,\u001b[0m \u001b[0mreg\u001b[0m\u001b[0;34m=\u001b[0m\u001b[0mreg\u001b[0m\u001b[0;34m)\u001b[0m\u001b[0;34m\u001b[0m\u001b[0;34m\u001b[0m\u001b[0m\n\u001b[0m\u001b[1;32m    136\u001b[0m                 \u001b[0mloss_history\u001b[0m\u001b[0;34m.\u001b[0m\u001b[0mappend\u001b[0m\u001b[0;34m(\u001b[0m\u001b[0mloss\u001b[0m\u001b[0;34m)\u001b[0m\u001b[0;34m\u001b[0m\u001b[0;34m\u001b[0m\u001b[0m\n\u001b[1;32m    137\u001b[0m \u001b[0;34m\u001b[0m\u001b[0m\n",
      "\u001b[0;32m~/Desktop/CS542/airbnb_project/nn/mlp_5.py\u001b[0m in \u001b[0;36mloss\u001b[0;34m(self, X, y, reg)\u001b[0m\n\u001b[1;32m     54\u001b[0m         \u001b[0mloss\u001b[0m \u001b[0;34m+=\u001b[0m \u001b[0;36m0.5\u001b[0m \u001b[0;34m*\u001b[0m \u001b[0mreg\u001b[0m \u001b[0;34m*\u001b[0m \u001b[0mnp\u001b[0m\u001b[0;34m.\u001b[0m\u001b[0msum\u001b[0m\u001b[0;34m(\u001b[0m\u001b[0mW1\u001b[0m \u001b[0;34m*\u001b[0m \u001b[0mW1\u001b[0m\u001b[0;34m)\u001b[0m\u001b[0;34m\u001b[0m\u001b[0;34m\u001b[0m\u001b[0m\n\u001b[1;32m     55\u001b[0m         \u001b[0mloss\u001b[0m \u001b[0;34m+=\u001b[0m \u001b[0;36m0.5\u001b[0m \u001b[0;34m*\u001b[0m \u001b[0mreg\u001b[0m \u001b[0;34m*\u001b[0m \u001b[0mnp\u001b[0m\u001b[0;34m.\u001b[0m\u001b[0msum\u001b[0m\u001b[0;34m(\u001b[0m\u001b[0mW2\u001b[0m \u001b[0;34m*\u001b[0m \u001b[0mW2\u001b[0m\u001b[0;34m)\u001b[0m\u001b[0;34m\u001b[0m\u001b[0;34m\u001b[0m\u001b[0m\n\u001b[0;32m---> 56\u001b[0;31m         \u001b[0mloss\u001b[0m \u001b[0;34m+=\u001b[0m \u001b[0;36m0.5\u001b[0m \u001b[0;34m*\u001b[0m \u001b[0mreg\u001b[0m \u001b[0;34m*\u001b[0m \u001b[0mnp\u001b[0m\u001b[0;34m.\u001b[0m\u001b[0msum\u001b[0m\u001b[0;34m(\u001b[0m\u001b[0mW3\u001b[0m \u001b[0;34m*\u001b[0m \u001b[0mW3\u001b[0m\u001b[0;34m)\u001b[0m\u001b[0;34m\u001b[0m\u001b[0;34m\u001b[0m\u001b[0m\n\u001b[0m\u001b[1;32m     57\u001b[0m         \u001b[0mloss\u001b[0m \u001b[0;34m+=\u001b[0m \u001b[0;36m0.5\u001b[0m \u001b[0;34m*\u001b[0m \u001b[0mreg\u001b[0m \u001b[0;34m*\u001b[0m \u001b[0mnp\u001b[0m\u001b[0;34m.\u001b[0m\u001b[0msum\u001b[0m\u001b[0;34m(\u001b[0m\u001b[0mW4\u001b[0m \u001b[0;34m*\u001b[0m \u001b[0mW4\u001b[0m\u001b[0;34m)\u001b[0m\u001b[0;34m\u001b[0m\u001b[0;34m\u001b[0m\u001b[0m\n\u001b[1;32m     58\u001b[0m \u001b[0;34m\u001b[0m\u001b[0m\n",
      "\u001b[0;31mKeyboardInterrupt\u001b[0m: "
     ]
    }
   ],
   "source": [
    "input_size = len(cols)\n",
    "print(X_train.shape)\n",
    "print(input_size)\n",
    "hidden_size = 4096\n",
    "hidden_size_1 = 256\n",
    "hidden_size_2 = 256\n",
    "hidden_size_3 = 512\n",
    "output_size = 1\n",
    "NN = TwoLayerMLP_5(input_size, hidden_size_1, hidden_size_2, hidden_size_3, output_size, activation='relu')\n",
    "\n",
    "np.random.seed(0)\n",
    "relu_stats = NN.train(X_train, y_train, X_val,y_val,\n",
    "                            num_epochs=100, batch_size = 25,\n",
    "                            learning_rate=3.5e-3, learning_rate_decay=0.9, \n",
    "                            reg=1e-10, verbose=False)\n",
    "\n",
    "print('Training Complete!')"
   ]
  },
  {
   "cell_type": "code",
   "execution_count": 274,
   "metadata": {},
   "outputs": [
    {
     "name": "stdout",
     "output_type": "stream",
     "text": [
      "(2051, 1)\n",
      "Finished\n"
     ]
    }
   ],
   "source": [
    "predicted_prices = NN.predict(X_test)\n",
    "print(predicted_prices.shape)\n",
    "tz_NY = pytz.timezone('America/New_York')\n",
    "datetime_NY = dt.now(tz_NY)\n",
    "time_stamp = datetime_NY.strftime(\"%H_%M_%S\")\n",
    "\n",
    "answ_df = pd.read_csv(\"test.csv\")\n",
    "answ_df.insert(1,'price',predicted_prices)\n",
    "answ_df.to_csv(\"predictions_nn/%s.csv\" % (time_stamp),index=False)\n",
    "\n",
    "print(\"Finished\")"
   ]
  },
  {
   "cell_type": "code",
   "execution_count": null,
   "metadata": {},
   "outputs": [],
   "source": []
  }
 ],
 "metadata": {
  "kernelspec": {
   "display_name": "Python 3",
   "language": "python",
   "name": "python3"
  },
  "language_info": {
   "codemirror_mode": {
    "name": "ipython",
    "version": 3
   },
   "file_extension": ".py",
   "mimetype": "text/x-python",
   "name": "python",
   "nbconvert_exporter": "python",
   "pygments_lexer": "ipython3",
   "version": "3.7.4"
  }
 },
 "nbformat": 4,
 "nbformat_minor": 2
}
