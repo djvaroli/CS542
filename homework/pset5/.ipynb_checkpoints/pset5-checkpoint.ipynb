{
 "cells": [
  {
   "cell_type": "markdown",
   "metadata": {
    "colab_type": "text",
    "id": "zkFtBm1mh88U"
   },
   "source": [
    "# 1. Linear Discriminant Analysis (LDA) [50 pts]\n",
    "In this part of the exercise, you will re-visit the problem of predicting whether a student gets admitted into a university. However, in this part, you will build a linear discriminant analysis (LDA) classifier for this problem.\n",
    "\n",
    "LDA is a generative model for classification that assumes the class covariances are equal. Given a training dataset of positive and negative features (x, y) with y $\\in$ {0, 1} , LDA models the data x as generated from class-conditional Gaussians:\n",
    "\n",
    "$P(x, y) = P(x|y)P(y)$ where $P(y = 1) = \\pi$ and $P(x|y) = N(x;\\mu^y,\\Sigma)$\n",
    "\n",
    "where means $\\mu^y$ are class-dependent but the covariance matrix $\\Sigma$ is class-independent (the same for all classes).\n",
    "\n",
    "A novel feature $x$ is classified as a positive if $P(y = 1|x) > P(y = 0|x)$, whichis equivalent to $a(x)\\gt0$, where the linear classifier $a(x) = w^Tx+w_0$ has weights given by $w = \\Sigma^{-1}(\\mu^1-\\mu^0)$.\n",
    "\n",
    "In practice, and in this assignment, we use $a(x)\\gt$ some threshold, or equivalently, $w^Tx>T$ for some constant $T$.\n",
    "\n",
    "As we saw in lecture, LDA and logistic regression can be expressed in the same form\n",
    "\n",
    "$P(y=1|x) = \\frac{1}{1+e^{-\\theta^Tx}}.$\n",
    "\n",
    "However, they generally produce different solutions for the parameter theta."
   ]
  },
  {
   "cell_type": "markdown",
   "metadata": {
    "colab_type": "text",
    "id": "R2x2Ymcph88X"
   },
   "source": [
    "## Implementation\n",
    "\n",
    "In this assignment, you can assume the prior probabilities for the two classes are the same (although the number of the positive and negative samples in the training data is not the same), and that the threshold $T$ is zero. As a bonus, you are encouraged to explore how the different prior probabilities shift the decision boundary."
   ]
  },
  {
   "cell_type": "code",
   "execution_count": 7,
   "metadata": {
    "colab": {},
    "colab_type": "code",
    "id": "Rv3jJYKqh88a",
    "jupyter": {
     "outputs_hidden": true
    }
   },
   "outputs": [
    {
     "data": {
      "image/png": "[encoded data removed]",
      "text/plain": [
       "<Figure size 720x432 with 1 Axes>"
      ]
     },
     "metadata": {
      "needs_background": "light"
     },
     "output_type": "display_data"
    }
   ],
   "source": [
    "%matplotlib inline\n",
    "import numpy as np\n",
    "import matplotlib.pyplot as plt\n",
    "import pandas as pd\n",
    "from scipy.linalg import inv\n",
    "from scipy.special import expit\n",
    "\n",
    "datafile = 'data/ex2data1.txt'\n",
    "#!head $datafile\n",
    "cols = np.loadtxt(datafile,delimiter=',',usecols=(0,1,2),unpack=True) #Read in comma separated data\n",
    "##Form the usual \"X\" matrix and \"y\" vector\n",
    "X = np.transpose(np.array(cols[:-1]))\n",
    "y = np.transpose(np.array(cols[-1:]))\n",
    "m = y.size # number of training examples\n",
    "##Insert the usual column of 1's into the \"X\" matrix\n",
    "X = np.insert(X,0,1,axis=1)\n",
    "\n",
    "#Divide the sample into two: ones with positive classification, one with null classification\n",
    "pos = np.array([X[i] for i in range(X.shape[0]) if y[i] == 1])\n",
    "neg = np.array([X[i] for i in range(X.shape[0]) if y[i] == 0])\n",
    "\n",
    "def plotData():\n",
    "    plt.figure(figsize=(10,6))\n",
    "    plt.plot(pos[:,1],pos[:,2],'k+',label='Admitted')\n",
    "    plt.plot(neg[:,1],neg[:,2],'yo',label='Not admitted')\n",
    "    plt.xlabel('Exam 1 score')\n",
    "    plt.ylabel('Exam 2 score')\n",
    "    plt.legend()\n",
    "    plt.grid(True)\n",
    "    \n",
    "plotData()"
   ]
  },
  {
   "cell_type": "markdown",
   "metadata": {
    "colab_type": "text",
    "id": "li9lx4eNh88i"
   },
   "source": [
    "Implement the LDA classifier by completing the code here. As an implementation detail, you should first center the positive and negative data separately, so that each has a mean equal to 0, before computing the covariance, as this tends to give a more accurate estimate. \n",
    "\n",
    "You should center the whole training data set before applying the classifier. Namely, subtract the middle value of the two classes’ means ($\\frac{1}{2}$(pos mean+neg mean)), which is on the separating plane when their prior probabilities are the same and becomes the ‘center’ of the data. [5 pts]"
   ]
  },
  {
   "cell_type": "code",
   "execution_count": 3,
   "metadata": {
    "colab": {},
    "colab_type": "code",
    "id": "yfy-qSDPh88k",
    "jupyter": {
     "outputs_hidden": true
    },
    "scrolled": true
   },
   "outputs": [],
   "source": [
    "# IMPLEMENT THIS\n",
    "pos_mean = np.mean(pos[:, 1:],axis = 0)\n",
    "neg_mean = np.mean(neg[:, 1:],axis = 0)\n",
    "\n",
    "data_center = 0.5*(pos_mean + neg_mean)\n",
    "pos_data = pos[:, 1:] - data_center\n",
    "neg_data = neg[:, 1:] - data_center"
   ]
  },
  {
   "cell_type": "markdown",
   "metadata": {
    "colab_type": "text",
    "id": "A37MPNh0h88q"
   },
   "source": [
    "Implement the LDA algorithm here (Compute the covariance on all data): [10 pts each for getting cov_all, w and y_lda]"
   ]
  },
  {
   "cell_type": "code",
   "execution_count": 5,
   "metadata": {
    "colab": {},
    "colab_type": "code",
    "id": "OAXzcyS-h88s",
    "jupyter": {
     "outputs_hidden": true
    },
    "scrolled": true
   },
   "outputs": [
    {
     "name": "stdout",
     "output_type": "stream",
     "text": [
      "[0.06121861 0.05751146]\n",
      "[-0.97016009 -3.19851065 -1.18984602  1.07093947  1.59435286 -1.57831407\n",
      "  1.71429161 -0.30678653  2.10926006  0.09544242  0.48981622 -1.2248162\n",
      "  1.86022629  2.28926188 -0.78361624  0.8573913  -0.31552682 -0.73292145\n",
      "  2.09308829 -0.12838919 -0.98896343  1.69701867 -1.67364787 -2.94011703\n",
      "  1.16001922  0.25824146 -0.09019774  0.35473017 -0.90162503 -1.46467691\n",
      "  0.36775623  0.93240238 -0.75654653 -0.39775394 -1.02087861 -1.2295044\n",
      "  0.18529895  1.00488029 -0.60764453 -1.15738033  0.79765939 -1.72663297\n",
      "  1.97556961 -0.19857069 -1.81668355 -0.77379706  1.20071778  3.39619858\n",
      "  1.78825658  3.12944724  1.58225342  2.00838294  0.46151436 -1.99006181\n",
      " -1.63428528 -1.10175887  2.36097307 -0.08474346  0.98402825  1.33017205\n",
      "  1.97070722 -2.7127012  -1.8753213  -2.88476272 -1.02091605 -1.13905444\n",
      "  0.50905953 -1.58905304  2.63524659  0.016759   -3.08318128  0.83102803\n",
      "  2.3860547   0.32786134  0.38780522  2.69629752  0.40474259 -0.12817232\n",
      " -1.43136062 -0.08640195  1.88061647  0.85649649  0.37375584 -0.65025915\n",
      "  2.57410551  1.53711483 -0.46680682  2.24400078  2.79519953 -0.87747141\n",
      "  2.62077044  2.99280644 -2.13482254  1.8628203   0.53177004  0.3164249\n",
      "  0.01958579  2.4582145  -0.45491693  2.14958   ]\n"
     ]
    }
   ],
   "source": [
    "# IMPLEMENT THIS\n",
    "\n",
    "# estimate posterior probabilities\n",
    "n,_ = X.shape\n",
    "n_pos,_ = pos_data.shape\n",
    "n_neg,_ = neg_data.shape\n",
    "\n",
    "pk_pos = n_pos/n\n",
    "pk_neg = n_neg/n\n",
    "T = -1*np.log(pk_pos/pk_neg)\n",
    "\n",
    "combined_data = np.vstack((pos_data,neg_data))\n",
    "cov_all = np.cov(combined_data.T) # calculate the covariance matrix\n",
    "w = inv(cov_all) @ (pos_mean - neg_mean) # calculate the weights\n",
    "y_lda = w.T @ (X[:, 1:] - data_center).T \n",
    "print(y_lda)\n",
    "y_lda_equal_post_prob = (y_lda > 0).astype(int) # compute decision boundary with equal posterior probabilities\n",
    "y_lda_post_prob = (y_lda > T).astype(int) # withn non-equal posterior probabilities"
   ]
  },
  {
   "cell_type": "markdown",
   "metadata": {
    "colab_type": "text",
    "id": "osoJdxBlh88z"
   },
   "source": [
    "Completing the code to compute the training set accuracy. You should get a training accuracy around 89%. [5 pts]"
   ]
  },
  {
   "cell_type": "code",
   "execution_count": 16,
   "metadata": {
    "colab": {},
    "colab_type": "code",
    "id": "e-DIafX-h881",
    "jupyter": {
     "outputs_hidden": true
    }
   },
   "outputs": [
    {
     "name": "stdout",
     "output_type": "stream",
     "text": [
      "Accuracy with equal posterior probs:  89\n",
      "Accuracy with non-equal posterior probs:  92\n"
     ]
    },
    {
     "data": {
      "image/png": "[encoded data removed]",
      "text/plain": [
       "<Figure size 720x432 with 1 Axes>"
      ]
     },
     "metadata": {
      "needs_background": "light"
     },
     "output_type": "display_data"
    }
   ],
   "source": [
    "# IMPLEMENT THIS\n",
    "\n",
    "accuracy_eql = 1 - np.sum(np.abs(y_lda_equal_post_prob.reshape((100,1))- y))/len(y)\n",
    "accuracy_eql *= 100\n",
    "\n",
    "accuracy_non_eql = 1 - np.sum(np.abs(y_lda_post_prob.reshape((100,1))- y))/len(y)\n",
    "accuracy_non_eql *= 100\n",
    "\n",
    "print(\"Accuracy with equal posterior probs: %3.f\" % accuracy_eql)\n",
    "print(\"Accuracy with non-equal posterior probs: %3.f\" % accuracy_non_eql)\n",
    "\n",
    "x1_plot = np.arange(-30,40,1)\n",
    "x2_plot = (-1/w[1])*(x1_plot*w[0] - T)\n",
    "\n",
    "def plotData():\n",
    "    plt.figure(figsize=(10,6))\n",
    "    plt.plot(pos_data[:,0],pos_data[:,1],'k+',label='Admitted')\n",
    "    plt.plot(neg_data[:,0],neg_data[:,1],'yo',label='Not admitted')\n",
    "    plt.plot(x1_plot,x2_plot,'r')\n",
    "    plt.xlabel('Exam 1 score')\n",
    "    plt.ylabel('Exam 2 score')\n",
    "    plt.legend()\n",
    "    plt.grid(True)\n",
    "    \n",
    "plotData()"
   ]
  },
  {
   "cell_type": "markdown",
   "metadata": {
    "colab_type": "text",
    "id": "5YwrYm0hh888"
   },
   "source": [
    "## Written Problem [10 pts]\n",
    "\n",
    "Show that the log-odds decision function a(x) for LDA\n",
    "\n",
    "$a = \\ln \\frac{p(x|C_l)p(C_l)}{p(x|C_k)p(C_k)}$\n",
    "\n",
    "is linear in x, that is, we can express $a(x)=\\theta^Tx$ for some $\\theta$. Show all your steps. Hint: This is a binary problem."
   ]
  },
  {
   "cell_type": "markdown",
   "metadata": {
    "colab_type": "text",
    "id": "rw-ns7Tih88-"
   },
   "source": [
    "#### ANSWER:\n",
    "\n",
    "[comment]: <> (your answer below here.)\n"
   ]
  },
  {
   "cell_type": "markdown",
   "metadata": {
    "colab_type": "text",
    "id": "14nwoH-Ih89B"
   },
   "source": [
    "# 2. CNN on MNIST using TensorFlow&trade; [50 pts]"
   ]
  },
  {
   "cell_type": "markdown",
   "metadata": {
    "colab_type": "text",
    "id": "YcnpsiDmh89D"
   },
   "source": [
    "---\n",
    "\n",
    "**Note 1**: The following has been verified to work with TensorFlow version 1.11-1.14\\*.\n",
    "As before, you can use any of the following options to run the notebook with:\n",
    "\n",
    "\n",
    "*   Your own installation of TensorFlow 1.11-1.14 using e.g. [Conda](https://anaconda.org/anaconda/conda)\n",
    "*   [Colab](https://colab.research.google.com) - has a 12-hour limit for running the compute instance. GPU instances are also available:  `Runtime -> Change runtime type -> Hardware accelerator `\n",
    "*   Shared Computing Cluster with GPUs: [port forwarding](http://rcs.bu.edu/classes/CS542/SC542.html) or easier \"SCC OnDemand\" option via `scc5.bu.edu`\n",
    "\n",
    "\\* *Adapted from official TensorFlow&trade; tour guide.*\n",
    "\n",
    "\n",
    "---\n",
    "\n",
    "\n",
    "\n",
    "TensorFlow is a powerful library for doing large-scale numerical computation. One of the tasks at which it excels is implementing and training deep neural networks. In this assignment you will learn the basic building blocks of a TensorFlow model while constructing a deep convolutional MNIST classifier.\n",
    "\n",
    "What you are expected to implement in this tutorial:\n",
    "\n",
    "* Create a softmax regression function that is a model for recognizing MNIST digits, based on looking at every pixel in the image\n",
    "\n",
    "* Use Tensorflow to train the model to recognize digits by having it \"look\" at thousands of examples\n",
    "\n",
    "* Check the model's accuracy with MNIST test data\n",
    "\n",
    "* Build, train, and test a multilayer convolutional neural network to improve the results\n",
    "\n",
    "Here is a diagram, created with TensorBoard, of the model we will build:\n",
    "\n",
    "![tensorflow graph](data/graph.png)\n",
    "\n",
    "## Implement Utilities\n",
    "\n",
    "### Weight Initialization\n",
    "\n",
    "To create this model, we're going to need to create a lot of weights and biases. One should generally initialize weights with a small amount of noise for symmetry breaking, and to prevent 0 gradients. Since we're using ReLU neurons, it is also good practice to initialize them with a slightly positive initial bias to avoid \"dead neurons\". Instead of doing this repeatedly while we build the model, let's create two handy functions to do it for us.\n"
   ]
  },
  {
   "cell_type": "code",
   "execution_count": 10,
   "metadata": {
    "colab": {},
    "colab_type": "code",
    "id": "Sf3kv02Ph89F",
    "jupyter": {
     "outputs_hidden": true
    }
   },
   "outputs": [
    {
     "name": "stdout",
     "output_type": "stream",
     "text": [
      "1.12.0\n"
     ]
    }
   ],
   "source": [
    "import tempfile\n",
    "\n",
    "import tensorflow as tf\n",
    "print(tf.__version__)\n",
    "from tensorflow.examples.tutorials.mnist import input_data\n",
    "\n",
    "tf.logging.set_verbosity(tf.logging.ERROR)\n",
    "\n",
    "def weight_variable(shape):\n",
    "    \"\"\"weight_variable generates a weight variable of a given shape.\"\"\"\n",
    "    initial = tf.truncated_normal(shape, stddev=0.1)\n",
    "    return tf.Variable(initial)\n",
    "\n",
    "\n",
    "def bias_variable(shape):\n",
    "    \"\"\"bias_variable generates a bias variable of a given shape.\"\"\"\n",
    "    initial = tf.constant(0.1, shape=shape)\n",
    "    return tf.Variable(initial)\n"
   ]
  },
  {
   "cell_type": "markdown",
   "metadata": {
    "colab_type": "text",
    "id": "YGeS2RFbh89N"
   },
   "source": [
    "### Convolution and Pooling [5 pts]\n",
    "\n",
    "Our convolutions uses a stride of one and are zero padded so that the output is the same size as the input. Our pooling is plain old max pooling over 2x2 blocks.\n",
    "\n",
    "NOTE: FOR ALL THE FOLLOWING CODES, DO NOT IMPLEMENT YOUR OWN VERSION. USE THE BUILT-IN METHODS FROM TENSORFLOW.\n",
    "\n",
    "Take a look at [TensorFlow API Docs](https://www.tensorflow.org/versions/r1.14/api_docs/python/tf)."
   ]
  },
  {
   "cell_type": "code",
   "execution_count": 11,
   "metadata": {
    "colab": {},
    "colab_type": "code",
    "id": "K-QccD9_h89P",
    "jupyter": {
     "outputs_hidden": true
    }
   },
   "outputs": [],
   "source": [
    "# IMPLEMENT THIS\n",
    "def conv2d(x, W):\n",
    "    \"\"\"conv2d returns a 2d convolution layer with full stride.\"\"\"   \n",
    "    return tf.nn.conv2d(x,W,strides = [1,1,1,1], padding=\"SAME\")\n",
    "\n",
    "\n",
    "def max_pool_2x2(x):\n",
    "    \"\"\"max_pool_2x2 downsamples a feature map by 2X.\"\"\"\n",
    "    return tf.nn.max_pool(x, ksize=[1, 2, 2, 1], strides = [1, 2, 2, 1], padding = \"SAME\")"
   ]
  },
  {
   "cell_type": "markdown",
   "metadata": {
    "colab_type": "text",
    "id": "fDylUeESh89W"
   },
   "source": [
    "## Build the CNN\n",
    "\n",
    "### First Convolutional Layer[10 pts]\n",
    "\n",
    "We can now implement our first layer. It will consist of convolution, followed by max pooling. The convolution will compute 32 features for each 5x5 patch. Its weight tensor will have a shape of [5, 5, 1, 32]. The first two dimensions are the patch size, the next is the number of input channels, and the last is the number of output channels. We will also have a bias vector with a component for each output channel.\n",
    "\n",
    "To apply the layer, we first reshape x to a 4d tensor, with the second and third dimensions corresponding to image width and height, and the final dimension corresponding to the number of color channels.\n",
    "\n",
    "We then convolve x_image with the weight tensor, add the bias, apply the ReLU function, and finally max pool. The max_pool_2x2 method will reduce the image size to 14x14.\n",
    "\n",
    "### Second Convolutional Layer[5 pts]\n",
    "\n",
    "In order to build a deep network, we stack several layers of this type. The second layer will have 64 features for each 5x5 patch.\n",
    "\n",
    "### Fully Connected Layer[10 pts]\n",
    "\n",
    "Now that the image size has been reduced to 7x7, we add a fully-connected layer with 1024 neurons to allow processing on the entire image. We reshape the tensor from the pooling layer into a batch of vectors, multiply by a weight matrix, add a bias, and apply a ReLU.\n",
    "\n",
    "### SoftmaxLayer[5 pts]\n",
    "\n",
    "Finally, we add a layer of softmax regression."
   ]
  },
  {
   "cell_type": "code",
   "execution_count": 12,
   "metadata": {
    "colab": {},
    "colab_type": "code",
    "id": "5khSBshgh89Y",
    "jupyter": {
     "outputs_hidden": true
    }
   },
   "outputs": [],
   "source": [
    "def deepnn(x):\n",
    "    \"\"\"\n",
    "    deepnn builds the graph for a deep net for classifying digits.\n",
    "    Args:\n",
    "      x: an input tensor with the dimensions (N_examples, 784), where 784 is the\n",
    "      number of pixels in a standard MNIST image.\n",
    "    Returns:\n",
    "      A tuple (y, keep_prob). y is a tensor of shape (N_examples, 10), with values\n",
    "      equal to the logits of classifying the digit into one of 10 classes (the\n",
    "      digits 0-9). keep_prob is a scalar placeholder for the probability of\n",
    "      dropout.\n",
    "    \"\"\"\n",
    "    # Reshape to use within a convolutional neural net.\n",
    "    # Last dimension is for \"features\" - there is only one here, since images are\n",
    "    # grayscale -- it would be 3 for an RGB image, 4 for RGBA, etc.\n",
    "    with tf.name_scope('reshape'):\n",
    "        x_image = tf.reshape(x, [-1, 28, 28, 1]) # image is 28 w by 28 height\n",
    "\n",
    "    # First convolutional layer - maps one grayscale image to 32 feature maps.\n",
    "    with tf.name_scope('conv1'):\n",
    "        W_conv1 = weight_variable([5, 5, 1, 32])\n",
    "        b_conv1 = bias_variable([32])\n",
    "        h_conv1 = tf.nn.relu(conv2d(x_image, W_conv1) + b_conv1)\n",
    "\n",
    "    # Pooling layer - downsamples by 2X.\n",
    "    with tf.name_scope('pool1'):\n",
    "        h_pool1 = max_pool_2x2(h_conv1)\n",
    "\n",
    "    # Second convolutional layer -- maps 32 feature maps to 64.\n",
    "    with tf.name_scope('conv2'):\n",
    "        W_conv2 = weight_variable([5,5,32,64])\n",
    "        b_conv2 = bias_variable([64])\n",
    "        h_conv2 = tf.nn.relu(conv2d(h_pool1, W_conv2) + b_conv2)\n",
    "\n",
    "    # Second pooling layer.\n",
    "    with tf.name_scope('pool2'):\n",
    "        h_pool2 = max_pool_2x2(h_conv2)\n",
    "\n",
    "    # Fully connected layer 1 -- after 2 round of downsampling, our 28x28 image\n",
    "    # is down to 7x7x64 feature maps -- maps this to 1024 features.\n",
    "    with tf.name_scope('fc1'):\n",
    "        h_pool2_flat = tf.reshape(h_pool2, [-1, 7*7*64])\n",
    "        W_fc1 = weight_variable([7 * 7 * 64, 1024])\n",
    "        b_fc1 = bias_variable([1024])\n",
    "        h_fc1 = tf.nn.relu(tf.matmul(h_pool2_flat,W_fc1) + b_fc1) # apply relu after multiplication and adding bias\n",
    "                           \n",
    "    with tf.name_scope('dropout'):\n",
    "        prob = tf.placeholder(tf.float32) # rate of dropout\n",
    "        h_fc1_drop = tf.nn.dropout(h_fc1, prob)\n",
    "                           \n",
    "    # Map the 1024 features to 10 classes, one for each digit\n",
    "    with tf.name_scope('fc2'):\n",
    "        W_fc2 = weight_variable([1024,10])\n",
    "        b_fc2 = bias_variable([10])\n",
    "        y_conv = tf.matmul(h_fc1_drop,W_fc2) + b_fc2\n",
    "        \n",
    "    return y_conv,prob"
   ]
  },
  {
   "cell_type": "markdown",
   "metadata": {
    "colab_type": "text",
    "id": "Lk3qas1mh89e"
   },
   "source": [
    "## Complete the Graph[10 pts]\n",
    "We start building the computation graph by creating nodes for the input images and target output classes."
   ]
  },
  {
   "cell_type": "code",
   "execution_count": 13,
   "metadata": {
    "colab": {},
    "colab_type": "code",
    "id": "saPR-7Cph89g",
    "jupyter": {
     "outputs_hidden": true
    }
   },
   "outputs": [
    {
     "name": "stdout",
     "output_type": "stream",
     "text": [
      "Extracting /tmp/tensorflow/mnist/input_data/train-images-idx3-ubyte.gz\n",
      "Extracting /tmp/tensorflow/mnist/input_data/train-labels-idx1-ubyte.gz\n",
      "Extracting /tmp/tensorflow/mnist/input_data/t10k-images-idx3-ubyte.gz\n",
      "Extracting /tmp/tensorflow/mnist/input_data/t10k-labels-idx1-ubyte.gz\n"
     ]
    }
   ],
   "source": [
    "# Import data\n",
    "mnist = input_data.read_data_sets('/tmp/tensorflow/mnist/input_data', one_hot=True)\n",
    "\n",
    "x = tf.placeholder(tf.float32, [None, 784])\n",
    "y_ = tf.placeholder(tf.float32, [None, 10])\n",
    "\n",
    "# Build the graph for the deep net\n",
    "y_conv,prob = deepnn(x)"
   ]
  },
  {
   "cell_type": "markdown",
   "metadata": {
    "colab_type": "text",
    "id": "WQBo6Cm4h89m"
   },
   "source": [
    "We can specify a loss function just as easily. Loss indicates how bad the model's prediction was on a single example; we try to minimize that while training across all the examples. Here, our loss function is the cross-entropy between the target and the softmax activation function applied to the model's prediction. As in the beginners tutorial, we use the stable formulation:"
   ]
  },
  {
   "cell_type": "code",
   "execution_count": 14,
   "metadata": {
    "colab": {},
    "colab_type": "code",
    "id": "DQrJ44K6h89p",
    "jupyter": {
     "outputs_hidden": true
    }
   },
   "outputs": [],
   "source": [
    "with tf.name_scope('loss'):\n",
    "    cross_entropy = tf.nn.softmax_cross_entropy_with_logits(labels = y_, logits = y_conv)\n",
    "    cross_entropy = tf.reduce_mean(cross_entropy)\n",
    "    \n",
    "with tf.name_scope('adam_optimizer'):\n",
    "    train_step = tf.train.AdamOptimizer(3e-4).minimize(cross_entropy)"
   ]
  },
  {
   "cell_type": "markdown",
   "metadata": {
    "colab_type": "text",
    "id": "y7QTiqbxh89u"
   },
   "source": [
    "First we'll figure out where we predicted the correct label. tf.argmax is an extremely useful function which gives you the index of the highest entry in a tensor along some axis. For example, tf.argmax(y,1) is the label our model thinks is most likely for each input, while tf.argmax(y\\_,1) is the true label. We can use tf.equal to check if our prediction matches the truth.\n",
    "\n",
    "That gives us a list of booleans. To determine what fraction are correct, we cast to floating point numbers and then take the mean. For example, [True, False, True, True] would become [1,0,1,1] which would become 0.75."
   ]
  },
  {
   "cell_type": "code",
   "execution_count": 15,
   "metadata": {
    "colab": {},
    "colab_type": "code",
    "id": "vgq7rhF3h89x",
    "jupyter": {
     "outputs_hidden": true
    }
   },
   "outputs": [],
   "source": [
    "with tf.name_scope('accuracy'):\n",
    "    correct_prediction_bool = tf.equal(tf.argmax(y_conv,1),tf.argmax(y_,1))\n",
    "    correct_prediction = tf.cast(correct_prediction_bool,tf.float32) # convert boolean to float values\n",
    "    accuracy = tf.reduce_mean(correct_prediction)"
   ]
  },
  {
   "cell_type": "code",
   "execution_count": 16,
   "metadata": {
    "colab": {},
    "colab_type": "code",
    "id": "H42khqNoh893",
    "jupyter": {
     "outputs_hidden": true
    }
   },
   "outputs": [
    {
     "name": "stdout",
     "output_type": "stream",
     "text": [
      "Saving graph to: /scratch/240796.1.ece/tmphc2vtm0_\n"
     ]
    }
   ],
   "source": [
    "# For saving the graph, DO NOT CHANGE.\n",
    "graph_location = tempfile.mkdtemp()\n",
    "print('Saving graph to: %s' % graph_location)\n",
    "train_writer = tf.summary.FileWriter(graph_location)\n",
    "train_writer.add_graph(tf.get_default_graph())"
   ]
  },
  {
   "cell_type": "markdown",
   "metadata": {
    "colab_type": "text",
    "id": "wm2MMW5Th899"
   },
   "source": [
    "## Train and Evaluate the Model[5 pts]\n",
    "\n",
    "We will use a more sophisticated ADAM optimizer instead of a Gradient Descent Optimizer.\n",
    "\n",
    "We will add logging to every 100th iteration in the training process.\n"
   ]
  },
  {
   "cell_type": "markdown",
   "metadata": {
    "colab_type": "text",
    "id": "24fc9M82h89_"
   },
   "source": [
    "Feel free to run this code. Be aware that it does 20,000 training iterations and may take a while (possibly up to half an hour), depending on your processor.\n",
    "With GPU acceleration it should be much faster. \n",
    "\n",
    "The final test set accuracy after running this code should be approximately 99.2%.\n",
    "\n",
    "We have learned how to quickly and easily build, train, and evaluate a fairly sophisticated deep learning model using TensorFlow."
   ]
  },
  {
   "cell_type": "code",
   "execution_count": 17,
   "metadata": {
    "colab": {},
    "colab_type": "code",
    "id": "T_Vl_cqYh8-A",
    "jupyter": {
     "outputs_hidden": true
    }
   },
   "outputs": [
    {
     "name": "stdout",
     "output_type": "stream",
     "text": [
      "step 0, training accuracy 0.06\n",
      "step 5000, training accuracy 1\n",
      "step 10000, training accuracy 1\n",
      "step 15000, training accuracy 1\n",
      "step 20000, training accuracy 1\n",
      "test accuracy 0.9925\n"
     ]
    }
   ],
   "source": [
    "with tf.Session() as sess:\n",
    "    sess.run(tf.global_variables_initializer())\n",
    "    for i in range(25000):\n",
    "        batch = mnist.train.next_batch(50)\n",
    "        if i % 5000 == 0:\n",
    "            train_accuracy = accuracy.eval(feed_dict={x: batch[0], y_: batch[1], prob: 1.0})\n",
    "            print('step %d, training accuracy %g' % (i, train_accuracy))\n",
    "        train_step.run(feed_dict={x: batch[0], y_: batch[1], prob: 0.5})\n",
    "    print('test accuracy %g' % accuracy.eval(feed_dict={x: mnist.test.images, y_: mnist.test.labels, prob: 1.0}))\n",
    "        "
   ]
  },
  {
   "cell_type": "code",
   "execution_count": null,
   "metadata": {},
   "outputs": [],
   "source": []
  }
 ],
 "metadata": {
  "colab": {
   "collapsed_sections": [],
   "name": "pset5.ipynb",
   "provenance": []
  },
  "kernelspec": {
   "display_name": "Python 3",
   "language": "python",
   "name": "python3"
  },
  "language_info": {
   "codemirror_mode": {
    "name": "ipython",
    "version": 3
   },
   "file_extension": ".py",
   "mimetype": "text/x-python",
   "name": "python",
   "nbconvert_exporter": "python",
   "pygments_lexer": "ipython3",
   "version": "3.7.4"
  }
 },
 "nbformat": 4,
 "nbformat_minor": 1
}
